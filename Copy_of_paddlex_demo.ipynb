{
  "nbformat": 4,
  "nbformat_minor": 0,
  "metadata": {
    "colab": {
      "name": "Copy of paddlex_demo.ipynb",
      "provenance": []
    },
    "kernelspec": {
      "name": "python3",
      "display_name": "Python 3"
    },
    "language_info": {
      "name": "python"
    },
    "accelerator": "GPU"
  },
  "cells": [
    {
      "cell_type": "code",
      "metadata": {
        "colab": {
          "base_uri": "https://localhost:8080/"
        },
        "id": "yK2VtibKbF4Y",
        "outputId": "53c3426e-0eaa-47a2-a837-dc102bff126e"
      },
      "source": [
        "import tensorflow as tf\n",
        "device_name = tf.test.gpu_device_name()\n",
        "if device_name != '/device:GPU:0':\n",
        "  raise SystemError('GPU device not found')\n",
        "print('Found GPU at: {}'.format(device_name))"
      ],
      "execution_count": 1,
      "outputs": [
        {
          "output_type": "stream",
          "name": "stdout",
          "text": [
            "Found GPU at: /device:GPU:0\n"
          ]
        }
      ]
    },
    {
      "cell_type": "code",
      "metadata": {
        "colab": {
          "base_uri": "https://localhost:8080/"
        },
        "id": "vYDKJTPRaymv",
        "outputId": "d4987a4c-79ea-4eb4-df5a-91fec947dfc9"
      },
      "source": [
        "!python --version"
      ],
      "execution_count": 2,
      "outputs": [
        {
          "output_type": "stream",
          "name": "stdout",
          "text": [
            "Python 3.7.12\n"
          ]
        }
      ]
    },
    {
      "cell_type": "code",
      "metadata": {
        "colab": {
          "base_uri": "https://localhost:8080/"
        },
        "id": "jCN5KXGFdAmq",
        "outputId": "9221ee8c-1e36-4ccc-ac15-4d0a703d0487"
      },
      "source": [
        "! wget https://bj.bcebos.com/paddlex/datasets/optic_disc_seg.tar.gz\n",
        "! tar xzf optic_disc_seg.tar.gz"
      ],
      "execution_count": 3,
      "outputs": [
        {
          "output_type": "stream",
          "name": "stdout",
          "text": [
            "--2021-12-04 02:42:13--  https://bj.bcebos.com/paddlex/datasets/optic_disc_seg.tar.gz\n",
            "Resolving bj.bcebos.com (bj.bcebos.com)... 103.235.46.61, 2409:8c04:1001:1002:0:ff:b001:368a\n",
            "Connecting to bj.bcebos.com (bj.bcebos.com)|103.235.46.61|:443... connected.\n",
            "HTTP request sent, awaiting response... 200 OK\n",
            "Length: 19077558 (18M) [application/octet-stream]\n",
            "Saving to: ‘optic_disc_seg.tar.gz’\n",
            "\n",
            "optic_disc_seg.tar. 100%[===================>]  18.19M  3.49MB/s    in 15s     \n",
            "\n",
            "2021-12-04 02:42:30 (1.20 MB/s) - ‘optic_disc_seg.tar.gz’ saved [19077558/19077558]\n",
            "\n"
          ]
        }
      ]
    },
    {
      "cell_type": "code",
      "metadata": {
        "colab": {
          "base_uri": "https://localhost:8080/"
        },
        "id": "PgvEhfFHcczj",
        "outputId": "5bc3e02b-ca7b-4f7c-bf0f-739dcb5b03ac"
      },
      "source": [
        "!python -m pip install paddlepaddle-gpu==2.2.0.post111 -f https://www.paddlepaddle.org.cn/whl/linux/mkl/avx/stable.html"
      ],
      "execution_count": 4,
      "outputs": [
        {
          "output_type": "stream",
          "name": "stdout",
          "text": [
            "Looking in links: https://www.paddlepaddle.org.cn/whl/linux/mkl/avx/stable.html\n",
            "Collecting paddlepaddle-gpu==2.2.0.post111\n",
            "  Downloading https://paddle-wheel.bj.bcebos.com/2.2.0/linux/linux-gpu-cuda11.1-cudnn8.1-mkl-gcc8.2-avx/paddlepaddle_gpu-2.2.0.post111-cp37-cp37m-linux_x86_64.whl (409.1 MB)\n",
            "\u001b[K     |████████████████████████████████| 409.1 MB 26 kB/s \n",
            "\u001b[?25hRequirement already satisfied: six in /usr/local/lib/python3.7/dist-packages (from paddlepaddle-gpu==2.2.0.post111) (1.15.0)\n",
            "Requirement already satisfied: astor in /usr/local/lib/python3.7/dist-packages (from paddlepaddle-gpu==2.2.0.post111) (0.8.1)\n",
            "Requirement already satisfied: decorator in /usr/local/lib/python3.7/dist-packages (from paddlepaddle-gpu==2.2.0.post111) (4.4.2)\n",
            "Requirement already satisfied: numpy>=1.13 in /usr/local/lib/python3.7/dist-packages (from paddlepaddle-gpu==2.2.0.post111) (1.19.5)\n",
            "Requirement already satisfied: protobuf>=3.1.0 in /usr/local/lib/python3.7/dist-packages (from paddlepaddle-gpu==2.2.0.post111) (3.17.3)\n",
            "Requirement already satisfied: Pillow in /usr/local/lib/python3.7/dist-packages (from paddlepaddle-gpu==2.2.0.post111) (7.1.2)\n",
            "Requirement already satisfied: requests>=2.20.0 in /usr/local/lib/python3.7/dist-packages (from paddlepaddle-gpu==2.2.0.post111) (2.23.0)\n",
            "Requirement already satisfied: idna<3,>=2.5 in /usr/local/lib/python3.7/dist-packages (from requests>=2.20.0->paddlepaddle-gpu==2.2.0.post111) (2.10)\n",
            "Requirement already satisfied: urllib3!=1.25.0,!=1.25.1,<1.26,>=1.21.1 in /usr/local/lib/python3.7/dist-packages (from requests>=2.20.0->paddlepaddle-gpu==2.2.0.post111) (1.24.3)\n",
            "Requirement already satisfied: chardet<4,>=3.0.2 in /usr/local/lib/python3.7/dist-packages (from requests>=2.20.0->paddlepaddle-gpu==2.2.0.post111) (3.0.4)\n",
            "Requirement already satisfied: certifi>=2017.4.17 in /usr/local/lib/python3.7/dist-packages (from requests>=2.20.0->paddlepaddle-gpu==2.2.0.post111) (2021.10.8)\n",
            "Installing collected packages: paddlepaddle-gpu\n",
            "Successfully installed paddlepaddle-gpu-2.2.0.post111\n"
          ]
        }
      ]
    },
    {
      "cell_type": "code",
      "metadata": {
        "colab": {
          "base_uri": "https://localhost:8080/"
        },
        "id": "G-URLCNLfCdc",
        "outputId": "9ca910cc-2c81-46e6-c5f1-a3c7f45cb311"
      },
      "source": [
        "import paddle\n",
        "paddle.utils.run_check()"
      ],
      "execution_count": 14,
      "outputs": [
        {
          "output_type": "stream",
          "name": "stdout",
          "text": [
            "Running verify PaddlePaddle program ... \n",
            "PaddlePaddle works well on 1 GPU.\n",
            "PaddlePaddle works well on 1 GPUs.\n",
            "PaddlePaddle is installed successfully! Let's start deep learning with PaddlePaddle now.\n"
          ]
        }
      ]
    },
    {
      "cell_type": "code",
      "metadata": {
        "colab": {
          "base_uri": "https://localhost:8080/"
        },
        "id": "mBxUBA--fXqo",
        "outputId": "912a2ea3-f096-4cf2-ae88-676499747bf1"
      },
      "source": [
        "!python -m pip install paddlex==2.0.0 -i https://mirror.baidu.com/pypi/simple"
      ],
      "execution_count": 5,
      "outputs": [
        {
          "output_type": "stream",
          "name": "stdout",
          "text": [
            "Looking in indexes: https://mirror.baidu.com/pypi/simple\n",
            "Collecting paddlex==2.0.0\n",
            "  Downloading https://mirror.baidu.com/pypi/packages/6b/60/ab6735f0699d002d994fd1ed9383bf5d8ac9423da2b4e3de65581905526b/paddlex-2.0.0-py3-none-any.whl (944 kB)\n",
            "\u001b[K     |████████████████████████████████| 944 kB 271 kB/s \n",
            "\u001b[?25hRequirement already satisfied: scipy in /usr/local/lib/python3.7/dist-packages (from paddlex==2.0.0) (1.4.1)\n",
            "Requirement already satisfied: tqdm in /usr/local/lib/python3.7/dist-packages (from paddlex==2.0.0) (4.62.3)\n",
            "Collecting visualdl>=2.1.1\n",
            "  Downloading https://mirror.baidu.com/pypi/packages/26/0b/eb1c2926eac542d35a3229576a270ae4ee91e3fb5806e08ef45e27f9e8d6/visualdl-2.2.2-py3-none-any.whl (2.7 MB)\n",
            "\u001b[K     |████████████████████████████████| 2.7 MB 8.1 MB/s \n",
            "\u001b[?25hRequirement already satisfied: opencv-python in /usr/local/lib/python3.7/dist-packages (from paddlex==2.0.0) (4.1.2.30)\n",
            "Requirement already satisfied: pycocotools in /usr/local/lib/python3.7/dist-packages (from paddlex==2.0.0) (2.0.3)\n",
            "Collecting paddleslim==2.1.1\n",
            "  Downloading https://mirror.baidu.com/pypi/packages/ee/e7/c6b97eb6809d14634ae5cbf287285584045d6f8949d0b436dc64cbefbf7a/paddleslim-2.1.1-py3-none-any.whl (288 kB)\n",
            "\u001b[K     |████████████████████████████████| 288 kB 10.5 MB/s \n",
            "\u001b[?25hRequirement already satisfied: pyyaml in /usr/local/lib/python3.7/dist-packages (from paddlex==2.0.0) (3.13)\n",
            "Collecting colorama\n",
            "  Downloading https://mirror.baidu.com/pypi/packages/44/98/5b86278fbbf250d239ae0ecb724f8572af1c91f4a11edf4d36a206189440/colorama-0.4.4-py2.py3-none-any.whl (16 kB)\n",
            "Requirement already satisfied: shapely>=1.7.0 in /usr/local/lib/python3.7/dist-packages (from paddlex==2.0.0) (1.8.0)\n",
            "Collecting lap\n",
            "  Downloading https://mirror.baidu.com/pypi/packages/bf/64/d9fb6a75b15e783952b2fec6970f033462e67db32dc43dfbb404c14e91c2/lap-0.4.0.tar.gz (1.5 MB)\n",
            "\u001b[K     |████████████████████████████████| 1.5 MB 18.9 MB/s \n",
            "\u001b[?25hCollecting scikit-learn==0.23.2\n",
            "  Downloading https://mirror.baidu.com/pypi/packages/f4/cb/64623369f348e9bfb29ff898a57ac7c91ed4921f228e9726546614d63ccb/scikit_learn-0.23.2-cp37-cp37m-manylinux1_x86_64.whl (6.8 MB)\n",
            "\u001b[K     |████████████████████████████████| 6.8 MB 18.5 MB/s \n",
            "\u001b[?25hRequirement already satisfied: chardet in /usr/local/lib/python3.7/dist-packages (from paddlex==2.0.0) (3.0.4)\n",
            "Collecting motmetrics\n",
            "  Downloading https://mirror.baidu.com/pypi/packages/9c/28/9c3bc8e2a87f4c9e7b04ab72856ec7f9895a66681a65973ffaf9562ef879/motmetrics-1.2.0-py3-none-any.whl (151 kB)\n",
            "\u001b[K     |████████████████████████████████| 151 kB 24.2 MB/s \n",
            "\u001b[?25hRequirement already satisfied: pyzmq in /usr/local/lib/python3.7/dist-packages (from paddleslim==2.1.1->paddlex==2.0.0) (22.3.0)\n",
            "Requirement already satisfied: matplotlib in /usr/local/lib/python3.7/dist-packages (from paddleslim==2.1.1->paddlex==2.0.0) (3.2.2)\n",
            "Requirement already satisfied: pillow in /usr/local/lib/python3.7/dist-packages (from paddleslim==2.1.1->paddlex==2.0.0) (7.1.2)\n",
            "Requirement already satisfied: threadpoolctl>=2.0.0 in /usr/local/lib/python3.7/dist-packages (from scikit-learn==0.23.2->paddlex==2.0.0) (3.0.0)\n",
            "Requirement already satisfied: joblib>=0.11 in /usr/local/lib/python3.7/dist-packages (from scikit-learn==0.23.2->paddlex==2.0.0) (1.1.0)\n",
            "Requirement already satisfied: numpy>=1.13.3 in /usr/local/lib/python3.7/dist-packages (from scikit-learn==0.23.2->paddlex==2.0.0) (1.19.5)\n",
            "Collecting flake8>=3.7.9\n",
            "  Downloading https://mirror.baidu.com/pypi/packages/34/39/cde2c8a227abb4f9ce62fe55586b920f438f1d2903a1a22514d0b982c333/flake8-4.0.1-py2.py3-none-any.whl (64 kB)\n",
            "\u001b[K     |████████████████████████████████| 64 kB 2.3 MB/s \n",
            "\u001b[?25hCollecting shellcheck-py\n",
            "  Downloading https://mirror.baidu.com/pypi/packages/31/d1/7dd704fdfc9c106f993478a082cbe08e56e03d4f0986e00b752ed148d95c/shellcheck_py-0.8.0.1-py2.py3-none-manylinux1_x86_64.whl (2.1 MB)\n",
            "\u001b[K     |████████████████████████████████| 2.1 MB 15.5 MB/s \n",
            "\u001b[?25hRequirement already satisfied: flask>=1.1.1 in /usr/local/lib/python3.7/dist-packages (from visualdl>=2.1.1->paddlex==2.0.0) (1.1.4)\n",
            "Requirement already satisfied: requests in /usr/local/lib/python3.7/dist-packages (from visualdl>=2.1.1->paddlex==2.0.0) (2.23.0)\n",
            "Requirement already satisfied: six>=1.14.0 in /usr/local/lib/python3.7/dist-packages (from visualdl>=2.1.1->paddlex==2.0.0) (1.15.0)\n",
            "Requirement already satisfied: pandas in /usr/local/lib/python3.7/dist-packages (from visualdl>=2.1.1->paddlex==2.0.0) (1.1.5)\n",
            "Collecting Flask-Babel>=1.0.0\n",
            "  Downloading https://mirror.baidu.com/pypi/packages/ab/3e/02331179ffab8b79e0383606a028b6a60fb1b4419b84935edd43223406a0/Flask_Babel-2.0.0-py3-none-any.whl (9.3 kB)\n",
            "Collecting pre-commit\n",
            "  Downloading https://mirror.baidu.com/pypi/packages/d9/70/47790ae4c87c7ea752715e1a3b6192be7ab2a02d38d86363b0d8bcef79ec/pre_commit-2.16.0-py2.py3-none-any.whl (191 kB)\n",
            "\u001b[K     |████████████████████████████████| 191 kB 30.5 MB/s \n",
            "\u001b[?25hCollecting bce-python-sdk\n",
            "  Downloading https://mirror.baidu.com/pypi/packages/55/ef/2a7e6c7692a036bae2570a9bcdcd7963ea54e07db97b4554c24d3cfacb21/bce-python-sdk-0.8.64.tar.gz (127 kB)\n",
            "\u001b[K     |████████████████████████████████| 127 kB 44.4 MB/s \n",
            "\u001b[?25hRequirement already satisfied: protobuf>=3.11.0 in /usr/local/lib/python3.7/dist-packages (from visualdl>=2.1.1->paddlex==2.0.0) (3.17.3)\n",
            "Collecting pyflakes<2.5.0,>=2.4.0\n",
            "  Downloading https://mirror.baidu.com/pypi/packages/43/fb/38848eb494af7df9aeb2d7673ace8b213313eb7e391691a79dbaeb6a838f/pyflakes-2.4.0-py2.py3-none-any.whl (69 kB)\n",
            "\u001b[K     |████████████████████████████████| 69 kB 4.9 MB/s \n",
            "\u001b[?25hCollecting pycodestyle<2.9.0,>=2.8.0\n",
            "  Downloading https://mirror.baidu.com/pypi/packages/15/94/bc43a2efb7b8615e38acde2b6624cae8c9ec86faf718ff5676c5179a7714/pycodestyle-2.8.0-py2.py3-none-any.whl (42 kB)\n",
            "\u001b[K     |████████████████████████████████| 42 kB 832 kB/s \n",
            "\u001b[?25hCollecting importlib-metadata<4.3\n",
            "  Downloading https://mirror.baidu.com/pypi/packages/22/51/52442c59db26637681148c21f8984eed58c9db67053a0a4783a047010c98/importlib_metadata-4.2.0-py3-none-any.whl (16 kB)\n",
            "Collecting mccabe<0.7.0,>=0.6.0\n",
            "  Downloading https://mirror.baidu.com/pypi/packages/87/89/479dc97e18549e21354893e4ee4ef36db1d237534982482c3681ee6e7b57/mccabe-0.6.1-py2.py3-none-any.whl (8.6 kB)\n",
            "Requirement already satisfied: Jinja2<3.0,>=2.10.1 in /usr/local/lib/python3.7/dist-packages (from flask>=1.1.1->visualdl>=2.1.1->paddlex==2.0.0) (2.11.3)\n",
            "Requirement already satisfied: Werkzeug<2.0,>=0.15 in /usr/local/lib/python3.7/dist-packages (from flask>=1.1.1->visualdl>=2.1.1->paddlex==2.0.0) (1.0.1)\n",
            "Requirement already satisfied: itsdangerous<2.0,>=0.24 in /usr/local/lib/python3.7/dist-packages (from flask>=1.1.1->visualdl>=2.1.1->paddlex==2.0.0) (1.1.0)\n",
            "Requirement already satisfied: click<8.0,>=5.1 in /usr/local/lib/python3.7/dist-packages (from flask>=1.1.1->visualdl>=2.1.1->paddlex==2.0.0) (7.1.2)\n",
            "Requirement already satisfied: pytz in /usr/local/lib/python3.7/dist-packages (from Flask-Babel>=1.0.0->visualdl>=2.1.1->paddlex==2.0.0) (2018.9)\n",
            "Requirement already satisfied: Babel>=2.3 in /usr/local/lib/python3.7/dist-packages (from Flask-Babel>=1.0.0->visualdl>=2.1.1->paddlex==2.0.0) (2.9.1)\n",
            "Requirement already satisfied: zipp>=0.5 in /usr/local/lib/python3.7/dist-packages (from importlib-metadata<4.3->flake8>=3.7.9->visualdl>=2.1.1->paddlex==2.0.0) (3.6.0)\n",
            "Requirement already satisfied: typing-extensions>=3.6.4 in /usr/local/lib/python3.7/dist-packages (from importlib-metadata<4.3->flake8>=3.7.9->visualdl>=2.1.1->paddlex==2.0.0) (3.10.0.2)\n",
            "Requirement already satisfied: MarkupSafe>=0.23 in /usr/local/lib/python3.7/dist-packages (from Jinja2<3.0,>=2.10.1->flask>=1.1.1->visualdl>=2.1.1->paddlex==2.0.0) (2.0.1)\n",
            "Collecting pycryptodome>=3.8.0\n",
            "  Downloading https://mirror.baidu.com/pypi/packages/b4/7f/4fdf605c688d4afa1264b37fd57edce87313f228facb3d8c869f65b5358e/pycryptodome-3.11.0-cp35-abi3-manylinux2010_x86_64.whl (1.9 MB)\n",
            "\u001b[K     |████████████████████████████████| 1.9 MB 24.5 MB/s \n",
            "\u001b[?25hRequirement already satisfied: future>=0.6.0 in /usr/local/lib/python3.7/dist-packages (from bce-python-sdk->visualdl>=2.1.1->paddlex==2.0.0) (0.16.0)\n",
            "Requirement already satisfied: cycler>=0.10 in /usr/local/lib/python3.7/dist-packages (from matplotlib->paddleslim==2.1.1->paddlex==2.0.0) (0.11.0)\n",
            "Requirement already satisfied: python-dateutil>=2.1 in /usr/local/lib/python3.7/dist-packages (from matplotlib->paddleslim==2.1.1->paddlex==2.0.0) (2.8.2)\n",
            "Requirement already satisfied: pyparsing!=2.0.4,!=2.1.2,!=2.1.6,>=2.0.1 in /usr/local/lib/python3.7/dist-packages (from matplotlib->paddleslim==2.1.1->paddlex==2.0.0) (3.0.6)\n",
            "Requirement already satisfied: kiwisolver>=1.0.1 in /usr/local/lib/python3.7/dist-packages (from matplotlib->paddleslim==2.1.1->paddlex==2.0.0) (1.3.2)\n",
            "Collecting xmltodict>=0.12.0\n",
            "  Downloading https://mirror.baidu.com/pypi/packages/28/fd/30d5c1d3ac29ce229f6bdc40bbc20b28f716e8b363140c26eff19122d8a5/xmltodict-0.12.0-py2.py3-none-any.whl (9.2 kB)\n",
            "Collecting pytest-benchmark\n",
            "  Downloading https://mirror.baidu.com/pypi/packages/2c/60/423a63fb190a0483d049786a121bd3dfd7d93bb5ff1bb5b5cd13e5df99a7/pytest_benchmark-3.4.1-py2.py3-none-any.whl (50 kB)\n",
            "\u001b[K     |████████████████████████████████| 50 kB 4.5 MB/s \n",
            "\u001b[?25hRequirement already satisfied: pytest in /usr/local/lib/python3.7/dist-packages (from motmetrics->paddlex==2.0.0) (3.6.4)\n",
            "Collecting flake8-import-order\n",
            "  Downloading https://mirror.baidu.com/pypi/packages/ab/52/cf2d6e2c505644ca06de2f6f3546f1e4f2b7be34246c9e0757c6048868f9/flake8_import_order-0.18.1-py2.py3-none-any.whl (15 kB)\n",
            "Requirement already satisfied: setuptools in /usr/local/lib/python3.7/dist-packages (from flake8-import-order->motmetrics->paddlex==2.0.0) (57.4.0)\n",
            "Collecting pyyaml\n",
            "  Downloading https://mirror.baidu.com/pypi/packages/eb/5f/6e6fe6904e1a9c67bc2ca5629a69e7a5a0b17f079da838bab98a1e548b25/PyYAML-6.0-cp37-cp37m-manylinux_2_5_x86_64.manylinux1_x86_64.manylinux_2_12_x86_64.manylinux2010_x86_64.whl (596 kB)\n",
            "\u001b[K     |████████████████████████████████| 596 kB 17.0 MB/s \n",
            "\u001b[?25hCollecting virtualenv>=20.0.8\n",
            "  Downloading https://mirror.baidu.com/pypi/packages/ac/8a/05e8d8a3ac88a3c4ebec1fe2b1b4730e6e6ebdddb52cfd6cea6803de4624/virtualenv-20.10.0-py2.py3-none-any.whl (5.6 MB)\n",
            "\u001b[K     |████████████████████████████████| 5.6 MB 19.5 MB/s \n",
            "\u001b[?25hCollecting nodeenv>=0.11.1\n",
            "  Downloading https://mirror.baidu.com/pypi/packages/54/73/56c89b343befb9c63e8117294d265458f0ff726fa2abcdc6bb5ec5e66a1a/nodeenv-1.6.0-py2.py3-none-any.whl (21 kB)\n",
            "Requirement already satisfied: toml in /usr/local/lib/python3.7/dist-packages (from pre-commit->visualdl>=2.1.1->paddlex==2.0.0) (0.10.2)\n",
            "Collecting identify>=1.0.0\n",
            "  Downloading https://mirror.baidu.com/pypi/packages/75/cb/8c80e739301e6eb24622dbc0006a82777ebac28bc698c1c04e6044919aba/identify-2.4.0-py2.py3-none-any.whl (98 kB)\n",
            "\u001b[K     |████████████████████████████████| 98 kB 6.7 MB/s \n",
            "\u001b[?25hCollecting cfgv>=2.0.0\n",
            "  Downloading https://mirror.baidu.com/pypi/packages/6d/82/0a0ebd35bae9981dea55c06f8e6aaf44a49171ad798795c72c6f64cba4c2/cfgv-3.3.1-py2.py3-none-any.whl (7.3 kB)\n",
            "Requirement already satisfied: filelock<4,>=3.2 in /usr/local/lib/python3.7/dist-packages (from virtualenv>=20.0.8->pre-commit->visualdl>=2.1.1->paddlex==2.0.0) (3.4.0)\n",
            "Collecting backports.entry-points-selectable>=1.0.4\n",
            "  Downloading https://mirror.baidu.com/pypi/packages/6d/2e/a6789183415658c7f2c41da8599d53077bd222233039f5c92bffbf23b28d/backports.entry_points_selectable-1.1.1-py2.py3-none-any.whl (6.2 kB)\n",
            "Collecting platformdirs<3,>=2\n",
            "  Downloading https://mirror.baidu.com/pypi/packages/b1/78/dcfd84d3aabd46a9c77260fb47ea5d244806e4daef83aa6fe5d83adb182c/platformdirs-2.4.0-py3-none-any.whl (14 kB)\n",
            "Collecting distlib<1,>=0.3.1\n",
            "  Downloading https://mirror.baidu.com/pypi/packages/28/36/4bdfb663826d6deedc30b179a7b7876a86943cec9fcfc3f1638489fd8b09/distlib-0.3.3-py2.py3-none-any.whl (496 kB)\n",
            "\u001b[K     |████████████████████████████████| 496 kB 14.9 MB/s \n",
            "\u001b[?25hRequirement already satisfied: cython>=0.27.3 in /usr/local/lib/python3.7/dist-packages (from pycocotools->paddlex==2.0.0) (0.29.24)\n",
            "Requirement already satisfied: more-itertools>=4.0.0 in /usr/local/lib/python3.7/dist-packages (from pytest->motmetrics->paddlex==2.0.0) (8.12.0)\n",
            "Requirement already satisfied: py>=1.5.0 in /usr/local/lib/python3.7/dist-packages (from pytest->motmetrics->paddlex==2.0.0) (1.11.0)\n",
            "Requirement already satisfied: atomicwrites>=1.0 in /usr/local/lib/python3.7/dist-packages (from pytest->motmetrics->paddlex==2.0.0) (1.4.0)\n",
            "Requirement already satisfied: attrs>=17.4.0 in /usr/local/lib/python3.7/dist-packages (from pytest->motmetrics->paddlex==2.0.0) (21.2.0)\n",
            "Requirement already satisfied: pluggy<0.8,>=0.5 in /usr/local/lib/python3.7/dist-packages (from pytest->motmetrics->paddlex==2.0.0) (0.7.1)\n",
            "Collecting pytest\n",
            "  Downloading https://mirror.baidu.com/pypi/packages/40/76/86f886e750b81a4357b6ed606b2bcf0ce6d6c27ad3c09ebf63ed674fc86e/pytest-6.2.5-py3-none-any.whl (280 kB)\n",
            "\u001b[K     |████████████████████████████████| 280 kB 29.0 MB/s \n",
            "\u001b[?25hCollecting py-cpuinfo\n",
            "  Downloading https://mirror.baidu.com/pypi/packages/e6/ba/77120e44cbe9719152415b97d5bfb29f4053ee987d6cb63f55ce7d50fadc/py-cpuinfo-8.0.0.tar.gz (99 kB)\n",
            "\u001b[K     |████████████████████████████████| 99 kB 6.9 MB/s \n",
            "\u001b[?25hRequirement already satisfied: iniconfig in /usr/local/lib/python3.7/dist-packages (from pytest->motmetrics->paddlex==2.0.0) (1.1.1)\n",
            "Requirement already satisfied: packaging in /usr/local/lib/python3.7/dist-packages (from pytest->motmetrics->paddlex==2.0.0) (21.3)\n",
            "Collecting pytest\n",
            "  Downloading https://mirror.baidu.com/pypi/packages/a1/59/6821e900592fbe261f19d67e4def0cb27e52ef8ed16d9922c144961cc1ee/pytest-6.2.4-py3-none-any.whl (280 kB)\n",
            "\u001b[K     |████████████████████████████████| 280 kB 36.9 MB/s \n",
            "\u001b[?25h  Downloading https://mirror.baidu.com/pypi/packages/76/4d/9c00146923da9f1cabd1878209d71b1380d537ec331a1a613e8f4b9d7985/pytest-6.2.3-py3-none-any.whl (280 kB)\n",
            "\u001b[K     |████████████████████████████████| 280 kB 24.4 MB/s \n",
            "\u001b[?25h  Downloading https://mirror.baidu.com/pypi/packages/a1/cf/7f67585bd2fc0359ec482cf3c430bce3ef6d3f40bc468137225a733e3069/pytest-6.2.2-py3-none-any.whl (280 kB)\n",
            "\u001b[K     |████████████████████████████████| 280 kB 44.0 MB/s \n",
            "\u001b[?25h  Downloading https://mirror.baidu.com/pypi/packages/d7/15/5ef931cbd22585865aad0ea025162545b53af9319cf38542e0b7981d5b34/pytest-6.2.1-py3-none-any.whl (279 kB)\n",
            "\u001b[K     |████████████████████████████████| 279 kB 20.6 MB/s \n",
            "\u001b[?25h  Downloading https://mirror.baidu.com/pypi/packages/57/ab/969446024b65731fb00ce57cb0f9c3eca5d3485b9f9a3a3662721fa09bc3/pytest-6.2.0-py3-none-any.whl (279 kB)\n",
            "\u001b[K     |████████████████████████████████| 279 kB 25.2 MB/s \n",
            "\u001b[?25h  Downloading https://mirror.baidu.com/pypi/packages/b1/ee/53945d50284906adb1e613fabf2e1b8b25926e8676854bb25b93564c0ce7/pytest-6.1.2-py3-none-any.whl (272 kB)\n",
            "\u001b[K     |████████████████████████████████| 272 kB 25.9 MB/s \n",
            "\u001b[?25h  Downloading https://mirror.baidu.com/pypi/packages/d6/36/9e022b76a3ac440e1d750c64fa6152469f988efe0c568b945e396e2693b5/pytest-6.1.1-py3-none-any.whl (272 kB)\n",
            "\u001b[K     |████████████████████████████████| 272 kB 40.0 MB/s \n",
            "\u001b[?25h  Downloading https://mirror.baidu.com/pypi/packages/61/a0/d4b854d67f8ecb855c65e5c760588e78213a4acb17ac7aeb4661ff1a9b3b/pytest-6.1.0-py3-none-any.whl (272 kB)\n",
            "\u001b[K     |████████████████████████████████| 272 kB 24.2 MB/s \n",
            "\u001b[?25h  Downloading https://mirror.baidu.com/pypi/packages/45/2c/7e29215cb19745ad67b6476b73fd1299872563f28329ea01d9d887713aaf/pytest-6.0.2-py3-none-any.whl (270 kB)\n",
            "\u001b[K     |████████████████████████████████| 270 kB 34.2 MB/s \n",
            "\u001b[?25h  Downloading https://mirror.baidu.com/pypi/packages/98/db/712bee56f9ab20373508a5a1c662e1db49b407dacf03b5224c6171ed0a3d/pytest-6.0.1-py3-none-any.whl (270 kB)\n",
            "\u001b[K     |████████████████████████████████| 270 kB 33.3 MB/s \n",
            "\u001b[?25h  Downloading https://mirror.baidu.com/pypi/packages/3f/ec/ffbc98bbff5c89306ccf60d5ed45889cb7e01aaae568e54036b24673286a/pytest-6.0.0-py3-none-any.whl (270 kB)\n",
            "\u001b[K     |████████████████████████████████| 270 kB 43.6 MB/s \n",
            "\u001b[?25h  Downloading https://mirror.baidu.com/pypi/packages/9f/f3/0a83558da436a081344aa6c8b85ea5b5f05071214106036ce341b7769b0b/pytest-5.4.3-py3-none-any.whl (248 kB)\n",
            "\u001b[K     |████████████████████████████████| 248 kB 22.7 MB/s \n",
            "\u001b[?25h  Downloading https://mirror.baidu.com/pypi/packages/6c/f9/9f2b6c672c8f8bb87a4c1bd52c1b57213627b035305aad745d015b2a62ae/pytest-5.4.2-py3-none-any.whl (247 kB)\n",
            "\u001b[K     |████████████████████████████████| 247 kB 20.1 MB/s \n",
            "\u001b[?25h  Downloading https://mirror.baidu.com/pypi/packages/c7/e2/c19c667f42f72716a7d03e8dd4d6f63f47d39feadd44cc1ee7ca3089862c/pytest-5.4.1-py3-none-any.whl (246 kB)\n",
            "\u001b[K     |████████████████████████████████| 246 kB 28.0 MB/s \n",
            "\u001b[?25h  Downloading https://mirror.baidu.com/pypi/packages/6a/83/7a83c0e85388b0774e06b81b16087da946c05b70604083641266be61793d/pytest-5.4.0-py3-none-any.whl (247 kB)\n",
            "\u001b[K     |████████████████████████████████| 247 kB 34.9 MB/s \n",
            "\u001b[?25h  Downloading https://mirror.baidu.com/pypi/packages/a5/c0/34033b2df7718b91c667bd259d5ce632ec3720198b7068c0ba6f6104ff89/pytest-5.3.5-py3-none-any.whl (235 kB)\n",
            "\u001b[K     |████████████████████████████████| 235 kB 41.4 MB/s \n",
            "\u001b[?25h  Downloading https://mirror.baidu.com/pypi/packages/0b/2d/75def2ed660903839bab38a1cadf819726637a0c3c78951de7e67a97a7c3/pytest-5.3.4-py3-none-any.whl (235 kB)\n",
            "\u001b[K     |████████████████████████████████| 235 kB 38.7 MB/s \n",
            "\u001b[?25h  Downloading https://mirror.baidu.com/pypi/packages/e6/94/29b5a09edc970a2f24742e6186dfe497cd6c778e60e54693215a36852613/pytest-5.3.3-py3-none-any.whl (235 kB)\n",
            "\u001b[K     |████████████████████████████████| 235 kB 23.3 MB/s \n",
            "\u001b[?25h  Downloading https://mirror.baidu.com/pypi/packages/19/cf/711f1d887cb92c5155c9a1eb338f1b5d2411b50e4492a3b20e4a188a22b2/pytest-5.3.2-py3-none-any.whl (234 kB)\n",
            "\u001b[K     |████████████████████████████████| 234 kB 26.6 MB/s \n",
            "\u001b[?25h  Downloading https://mirror.baidu.com/pypi/packages/da/ed/d22d7f06eb1107271694ed2171b9d52e8eea38d9757124e75ba13324ac77/pytest-5.3.1-py3-none-any.whl (233 kB)\n",
            "\u001b[K     |████████████████████████████████| 233 kB 26.1 MB/s \n",
            "\u001b[?25h  Downloading https://mirror.baidu.com/pypi/packages/30/c5/cf0d56d9e0458f66cfef10bc74b375597c34e53e522e23e817673e83f1b9/pytest-5.3.0-py3-none-any.whl (233 kB)\n",
            "\u001b[K     |████████████████████████████████| 233 kB 33.4 MB/s \n",
            "\u001b[?25h  Downloading https://mirror.baidu.com/pypi/packages/17/18/8bfa28d47cd71d5155fbd3b393c75e8f7966bef5f32637333e76ee74ce04/pytest-5.2.4-py3-none-any.whl (227 kB)\n",
            "\u001b[K     |████████████████████████████████| 227 kB 12.9 MB/s \n",
            "\u001b[?25h  Downloading https://mirror.baidu.com/pypi/packages/19/ab/8b76cdcb416ead812c8310eafdbc55ceb5a929f9d5ce28948f81a46cdc64/pytest-5.2.3-py3-none-any.whl (227 kB)\n",
            "\u001b[K     |████████████████████████████████| 227 kB 26.0 MB/s \n",
            "\u001b[?25h  Downloading https://mirror.baidu.com/pypi/packages/93/16/f6dec5178f5f4141e80dfc4812a9aba88f5f29ca881f174ab1851181d016/pytest-5.2.2-py3-none-any.whl (227 kB)\n",
            "\u001b[K     |████████████████████████████████| 227 kB 41.6 MB/s \n",
            "\u001b[?25h  Downloading https://mirror.baidu.com/pypi/packages/0c/91/d68f68ce54cd3e8afa1ef73ea1ad44df2438521b64c0820e5fd9b9f13b7d/pytest-5.2.1-py3-none-any.whl (226 kB)\n",
            "\u001b[K     |████████████████████████████████| 226 kB 34.7 MB/s \n",
            "\u001b[?25h  Downloading https://mirror.baidu.com/pypi/packages/9a/46/903ea822d83187bb8b354fcb3d085fb10b7787be39f9cf1628bc6ef8f9c9/pytest-5.2.0-py3-none-any.whl (226 kB)\n",
            "\u001b[K     |████████████████████████████████| 226 kB 41.7 MB/s \n",
            "\u001b[?25h  Downloading https://mirror.baidu.com/pypi/packages/ca/e1/2f229554e5c273962fae8b286395d5bbcc7bef276d2b40e1bad954993db2/pytest-5.1.3-py3-none-any.whl (224 kB)\n",
            "\u001b[K     |████████████████████████████████| 224 kB 20.8 MB/s \n",
            "\u001b[?25h  Downloading https://mirror.baidu.com/pypi/packages/2f/19/d5f71752f71451ccc5ed5f6739e9da4a235f38783fdaf3629cae41b2ca7b/pytest-5.1.2-py3-none-any.whl (224 kB)\n",
            "\u001b[K     |████████████████████████████████| 224 kB 41.3 MB/s \n",
            "\u001b[?25h  Downloading https://mirror.baidu.com/pypi/packages/ef/3b/5652e27e048ae086f79ce9c4ce8a2da6bad1e9590788e5768aafc6f375ef/pytest-5.1.1-py3-none-any.whl (223 kB)\n",
            "\u001b[K     |████████████████████████████████| 223 kB 26.4 MB/s \n",
            "\u001b[?25h  Downloading https://mirror.baidu.com/pypi/packages/2b/65/9f1c6797b6acaff47f818312c6335a34e9919beaf123b72e0069490f2422/pytest-5.1.0-py3-none-any.whl (223 kB)\n",
            "\u001b[K     |████████████████████████████████| 223 kB 35.6 MB/s \n",
            "\u001b[?25h  Downloading https://mirror.baidu.com/pypi/packages/69/1d/2430053122a3c6106f7fd1ff0bc68eb73e27db8f951db70fcd942da52c7b/pytest-5.0.1-py3-none-any.whl (221 kB)\n",
            "\u001b[K     |████████████████████████████████| 221 kB 21.1 MB/s \n",
            "\u001b[?25h  Downloading https://mirror.baidu.com/pypi/packages/4c/35/e13740d90c413fb5ec3c9b5243f79981f7bc759f4a12a959d8dadd57f971/pytest-5.0.0-py3-none-any.whl (221 kB)\n",
            "\u001b[K     |████████████████████████████████| 221 kB 20.9 MB/s \n",
            "\u001b[?25h  Downloading https://mirror.baidu.com/pypi/packages/70/c7/e8cb4a537ee4fc497ac80a606a667fd1832f28ad3ddbfa25bf30473eae13/pytest-4.6.11-py2.py3-none-any.whl (231 kB)\n",
            "\u001b[K     |████████████████████████████████| 231 kB 38.3 MB/s \n",
            "\u001b[?25h  Downloading https://mirror.baidu.com/pypi/packages/66/e2/411fd308465c130ae4bc2fd20629a277869204b70a36e121961294766825/pytest-4.6.10-py2.py3-none-any.whl (231 kB)\n",
            "\u001b[K     |████████████████████████████████| 231 kB 37.9 MB/s \n",
            "\u001b[?25h  Downloading https://mirror.baidu.com/pypi/packages/e3/05/26e00e583640d02c6b38ac53a92d8c9fecacde0842c4f2d7c02bbbd0d57f/pytest-4.6.9-py2.py3-none-any.whl (231 kB)\n",
            "\u001b[K     |████████████████████████████████| 231 kB 36.3 MB/s \n",
            "\u001b[?25h  Downloading https://mirror.baidu.com/pypi/packages/48/dd/5a41343e0251ba8fa2293662fdd80377e537ace5576e96d2ca9b06e9ad6f/pytest-4.6.8-py2.py3-none-any.whl (230 kB)\n",
            "\u001b[K     |████████████████████████████████| 230 kB 24.3 MB/s \n",
            "\u001b[?25h  Downloading https://mirror.baidu.com/pypi/packages/b4/2f/7229e981f27a3593c3ccf5119bb8a78c46f9079bff34f11c7ad329709aa0/pytest-4.6.7-py2.py3-none-any.whl (230 kB)\n",
            "\u001b[K     |████████████████████████████████| 230 kB 33.6 MB/s \n",
            "\u001b[?25h  Downloading https://mirror.baidu.com/pypi/packages/64/f1/187a98b8f913a8f3a53d213cca2fae19718565f36165804d7f4f91fe5b76/pytest-4.6.6-py2.py3-none-any.whl (230 kB)\n",
            "\u001b[K     |████████████████████████████████| 230 kB 43.2 MB/s \n",
            "\u001b[?25h  Downloading https://mirror.baidu.com/pypi/packages/97/72/d4d6d22ad216f149685f2e93ce9280df9f36cbbc87fa546641ac92f22766/pytest-4.6.5-py2.py3-none-any.whl (230 kB)\n",
            "\u001b[K     |████████████████████████████████| 230 kB 36.9 MB/s \n",
            "\u001b[?25h  Downloading https://mirror.baidu.com/pypi/packages/8c/6f/4db6124788e9b281d94693e21e5a40d00f417763dcda10edc8a70655cb92/pytest-4.6.4-py2.py3-none-any.whl (229 kB)\n",
            "\u001b[K     |████████████████████████████████| 229 kB 21.1 MB/s \n",
            "\u001b[?25h  Downloading https://mirror.baidu.com/pypi/packages/b3/eb/df264c0b1ff4aaf263375dc09aabd9093364f66060be9b26f3a2c166d558/pytest-4.6.3-py2.py3-none-any.whl (229 kB)\n",
            "\u001b[K     |████████████████████████████████| 229 kB 24.6 MB/s \n",
            "\u001b[?25h  Downloading https://mirror.baidu.com/pypi/packages/cd/eb/04a30246424f5664a8fb72d982a57f60399642a63d24c7fdfaf70d673c27/pytest-4.6.2-py2.py3-none-any.whl (229 kB)\n",
            "\u001b[K     |████████████████████████████████| 229 kB 31.7 MB/s \n",
            "\u001b[?25h  Downloading https://mirror.baidu.com/pypi/packages/7c/88/1e899b479e019f12d468f6d4bc590446a26ce22f4bff75129181fb45d36c/pytest-4.6.1-py2.py3-none-any.whl (229 kB)\n",
            "\u001b[K     |████████████████████████████████| 229 kB 10.9 MB/s \n",
            "\u001b[?25h  Downloading https://mirror.baidu.com/pypi/packages/98/b8/db268d7c6b517af5b1731fc95d13e89a5032116a1482f2badb423333a420/pytest-4.6.0-py2.py3-none-any.whl (229 kB)\n",
            "\u001b[K     |████████████████████████████████| 229 kB 21.4 MB/s \n",
            "\u001b[?25h  Downloading https://mirror.baidu.com/pypi/packages/56/53/0ae37ab12c457945ae0152c6571d6d40eecccddf25f71fe328f9aefe90ca/pytest-4.5.0-py2.py3-none-any.whl (227 kB)\n",
            "\u001b[K     |████████████████████████████████| 227 kB 31.7 MB/s \n",
            "\u001b[?25h  Downloading https://mirror.baidu.com/pypi/packages/7a/07/170d7613c616862fbcd596666d1a14d0b64080afacdbc4ba85f5401358b9/pytest-4.4.2-py2.py3-none-any.whl (224 kB)\n",
            "\u001b[K     |████████████████████████████████| 224 kB 39.0 MB/s \n",
            "\u001b[?25h  Downloading https://mirror.baidu.com/pypi/packages/5d/c3/54f607bc9817fd284073ac68e99123f86616f431f9d29a855474b7cf00eb/pytest-4.4.1-py2.py3-none-any.whl (223 kB)\n",
            "\u001b[K     |████████████████████████████████| 223 kB 43.6 MB/s \n",
            "\u001b[?25h  Downloading https://mirror.baidu.com/pypi/packages/7e/16/83b2a35c427b838df9836c9e7e4ae6dfbcbdea643db44652f693b1c57d70/pytest-4.4.0-py2.py3-none-any.whl (223 kB)\n",
            "\u001b[K     |████████████████████████████████| 223 kB 16.6 MB/s \n",
            "\u001b[?25h  Downloading https://mirror.baidu.com/pypi/packages/c8/52/c455e718f19e4fd7126c81b4910ca2431ded6c28b97e36a1a1f5e5ef7247/pytest-4.3.1-py2.py3-none-any.whl (219 kB)\n",
            "\u001b[K     |████████████████████████████████| 219 kB 44.2 MB/s \n",
            "\u001b[?25hRequirement already satisfied: idna<3,>=2.5 in /usr/local/lib/python3.7/dist-packages (from requests->visualdl>=2.1.1->paddlex==2.0.0) (2.10)\n",
            "Requirement already satisfied: urllib3!=1.25.0,!=1.25.1,<1.26,>=1.21.1 in /usr/local/lib/python3.7/dist-packages (from requests->visualdl>=2.1.1->paddlex==2.0.0) (1.24.3)\n",
            "Requirement already satisfied: certifi>=2017.4.17 in /usr/local/lib/python3.7/dist-packages (from requests->visualdl>=2.1.1->paddlex==2.0.0) (2021.10.8)\n",
            "Building wheels for collected packages: bce-python-sdk, lap, py-cpuinfo\n",
            "  Building wheel for bce-python-sdk (setup.py) ... \u001b[?25l\u001b[?25hdone\n",
            "  Created wheel for bce-python-sdk: filename=bce_python_sdk-0.8.64-py3-none-any.whl size=202973 sha256=8c7a29c3a0c97d29b43bc8834c4a65c1fb262288bf25463d1fee015f629d0763\n",
            "  Stored in directory: /root/.cache/pip/wheels/16/b1/94/e33f9deb70bf6f2005d0deb22af1f4e3a71be8c25a49fb3c2b\n",
            "  Building wheel for lap (setup.py) ... \u001b[?25l\u001b[?25hdone\n",
            "  Created wheel for lap: filename=lap-0.4.0-cp37-cp37m-linux_x86_64.whl size=1590191 sha256=dc6992c443ebe62a4aa27669f34fdc8fb9f81866a44d932c6cb35b37540d7956\n",
            "  Stored in directory: /root/.cache/pip/wheels/95/5f/20/9e2b2cfb8b2bfae5a5374e947511a47c8909e74aaf6d6d4464\n",
            "  Building wheel for py-cpuinfo (setup.py) ... \u001b[?25l\u001b[?25hdone\n",
            "  Created wheel for py-cpuinfo: filename=py_cpuinfo-8.0.0-py3-none-any.whl size=22258 sha256=90106f759ffef0324c5a520e6e4e0a71da09b3ed7bda567987bf9d0f85efb6ba\n",
            "  Stored in directory: /root/.cache/pip/wheels/9c/57/dd/323247bc3b04fce7bc3fa4c25c106b87f2c13888c240b68723\n",
            "Successfully built bce-python-sdk lap py-cpuinfo\n",
            "Installing collected packages: importlib-metadata, platformdirs, distlib, backports.entry-points-selectable, virtualenv, pyyaml, pytest, pyflakes, pycryptodome, pycodestyle, py-cpuinfo, nodeenv, mccabe, identify, cfgv, xmltodict, shellcheck-py, pytest-benchmark, pre-commit, Flask-Babel, flake8-import-order, flake8, bce-python-sdk, visualdl, scikit-learn, paddleslim, motmetrics, lap, colorama, paddlex\n",
            "  Attempting uninstall: importlib-metadata\n",
            "    Found existing installation: importlib-metadata 4.8.2\n",
            "    Uninstalling importlib-metadata-4.8.2:\n",
            "      Successfully uninstalled importlib-metadata-4.8.2\n",
            "  Attempting uninstall: pyyaml\n",
            "    Found existing installation: PyYAML 3.13\n",
            "    Uninstalling PyYAML-3.13:\n",
            "      Successfully uninstalled PyYAML-3.13\n",
            "  Attempting uninstall: pytest\n",
            "    Found existing installation: pytest 3.6.4\n",
            "    Uninstalling pytest-3.6.4:\n",
            "      Successfully uninstalled pytest-3.6.4\n",
            "  Attempting uninstall: scikit-learn\n",
            "    Found existing installation: scikit-learn 1.0.1\n",
            "    Uninstalling scikit-learn-1.0.1:\n",
            "      Successfully uninstalled scikit-learn-1.0.1\n",
            "\u001b[31mERROR: pip's dependency resolver does not currently take into account all the packages that are installed. This behaviour is the source of the following dependency conflicts.\n",
            "markdown 3.3.6 requires importlib-metadata>=4.4; python_version < \"3.10\", but you have importlib-metadata 4.2.0 which is incompatible.\n",
            "imbalanced-learn 0.8.1 requires scikit-learn>=0.24, but you have scikit-learn 0.23.2 which is incompatible.\n",
            "datascience 0.10.6 requires folium==0.2.1, but you have folium 0.8.3 which is incompatible.\u001b[0m\n",
            "Successfully installed Flask-Babel-2.0.0 backports.entry-points-selectable-1.1.1 bce-python-sdk-0.8.64 cfgv-3.3.1 colorama-0.4.4 distlib-0.3.3 flake8-4.0.1 flake8-import-order-0.18.1 identify-2.4.0 importlib-metadata-4.2.0 lap-0.4.0 mccabe-0.6.1 motmetrics-1.2.0 nodeenv-1.6.0 paddleslim-2.1.1 paddlex-2.0.0 platformdirs-2.4.0 pre-commit-2.16.0 py-cpuinfo-8.0.0 pycodestyle-2.8.0 pycryptodome-3.11.0 pyflakes-2.4.0 pytest-4.3.1 pytest-benchmark-3.4.1 pyyaml-6.0 scikit-learn-0.23.2 shellcheck-py-0.8.0.1 virtualenv-20.10.0 visualdl-2.2.2 xmltodict-0.12.0\n"
          ]
        }
      ]
    },
    {
      "cell_type": "code",
      "metadata": {
        "colab": {
          "base_uri": "https://localhost:8080/"
        },
        "id": "0uJQYqb2fpUF",
        "outputId": "cb175d11-6d66-4014-fdf3-bac8f6979d7d"
      },
      "source": [
        "!python -m pip install cython pycocotools"
      ],
      "execution_count": 7,
      "outputs": [
        {
          "output_type": "stream",
          "name": "stdout",
          "text": [
            "Requirement already satisfied: cython in /usr/local/lib/python3.7/dist-packages (0.29.24)\n",
            "Requirement already satisfied: pycocotools in /usr/local/lib/python3.7/dist-packages (2.0.3)\n",
            "Requirement already satisfied: setuptools>=18.0 in /usr/local/lib/python3.7/dist-packages (from pycocotools) (57.4.0)\n",
            "Requirement already satisfied: matplotlib>=2.1.0 in /usr/local/lib/python3.7/dist-packages (from pycocotools) (3.2.2)\n",
            "Requirement already satisfied: pyparsing!=2.0.4,!=2.1.2,!=2.1.6,>=2.0.1 in /usr/local/lib/python3.7/dist-packages (from matplotlib>=2.1.0->pycocotools) (3.0.6)\n",
            "Requirement already satisfied: python-dateutil>=2.1 in /usr/local/lib/python3.7/dist-packages (from matplotlib>=2.1.0->pycocotools) (2.8.2)\n",
            "Requirement already satisfied: cycler>=0.10 in /usr/local/lib/python3.7/dist-packages (from matplotlib>=2.1.0->pycocotools) (0.11.0)\n",
            "Requirement already satisfied: numpy>=1.11 in /usr/local/lib/python3.7/dist-packages (from matplotlib>=2.1.0->pycocotools) (1.19.5)\n",
            "Requirement already satisfied: kiwisolver>=1.0.1 in /usr/local/lib/python3.7/dist-packages (from matplotlib>=2.1.0->pycocotools) (1.3.2)\n",
            "Requirement already satisfied: six>=1.5 in /usr/local/lib/python3.7/dist-packages (from python-dateutil>=2.1->matplotlib>=2.1.0->pycocotools) (1.15.0)\n"
          ]
        }
      ]
    },
    {
      "cell_type": "code",
      "metadata": {
        "id": "-1sLmj_neHio"
      },
      "source": [
        "import os\n",
        "os.environ['CUDA_VISIBLE_DEVICES'] = '0'\n",
        "import paddlex as pdx\n",
        "from paddlex import transforms as T\n",
        "train_transforms = T.Compose([\n",
        "    T.Resize(target_size=512),\n",
        "    T.Normalize()\n",
        "])\n",
        "eval_transforms = T.Compose([\n",
        "    T.Resize(target_size=512),\n",
        "    T.Normalize()\n",
        "])"
      ],
      "execution_count": 15,
      "outputs": []
    },
    {
      "cell_type": "code",
      "metadata": {
        "id": "pUKOp7u9jd3h",
        "colab": {
          "base_uri": "https://localhost:8080/"
        },
        "outputId": "eb3b0b71-5f29-44a7-e6ed-89f456274510"
      },
      "source": [
        "train_dataset = pdx.datasets.SegDataset(\n",
        "    data_dir='optic_disc_seg',\n",
        "    file_list='optic_disc_seg/train_list.txt',\n",
        "    label_list='optic_disc_seg/labels.txt',\n",
        "    transforms=train_transforms,\n",
        "    shuffle=True)\n",
        "eval_dataset = pdx.datasets.SegDataset(\n",
        "    data_dir='optic_disc_seg',\n",
        "    file_list='optic_disc_seg/val_list.txt',\n",
        "    label_list='optic_disc_seg/labels.txt',\n",
        "    transforms=eval_transforms)"
      ],
      "execution_count": 16,
      "outputs": [
        {
          "output_type": "stream",
          "name": "stdout",
          "text": [
            "2021-12-04 02:51:22 [INFO]\t267 samples in file optic_disc_seg/train_list.txt\n",
            "2021-12-04 02:51:22 [INFO]\t76 samples in file optic_disc_seg/val_list.txt\n"
          ]
        }
      ]
    },
    {
      "cell_type": "code",
      "metadata": {
        "id": "iM80gp1zjKWx",
        "colab": {
          "base_uri": "https://localhost:8080/",
          "height": 522
        },
        "outputId": "f8918f22-5902-48bb-8b49-d3f04ca49044"
      },
      "source": [
        "num_classes = len(train_dataset.labels)\n",
        "model = pdx.seg.DeepLabV3P(num_classes=num_classes)\n",
        "\n",
        "model.train(\n",
        "    num_epochs=40,\n",
        "    train_dataset=train_dataset,\n",
        "    train_batch_size=1,\n",
        "    eval_dataset=eval_dataset,\n",
        "    save_interval_epochs=1,\n",
        "    log_interval_steps=2,\n",
        "    early_stop=True,\n",
        "    early_stop_patience=5,\n",
        "    save_dir='output/deeplab')"
      ],
      "execution_count": 17,
      "outputs": [
        {
          "output_type": "stream",
          "name": "stdout",
          "text": [
            "2021-12-04 02:51:25 [INFO]\tLoading pretrained model from output/deeplab/pretrain/model.pdparams\n",
            "2021-12-04 02:51:26 [WARNING]\t[SKIP] Shape of pretrained params head.decoder.conv.weight doesn't match.(Pretrained: [19, 256, 1, 1], Actual: [2, 256, 1, 1])\n",
            "2021-12-04 02:51:26 [WARNING]\t[SKIP] Shape of pretrained params head.decoder.conv.bias doesn't match.(Pretrained: [19], Actual: [2])\n",
            "2021-12-04 02:51:26 [INFO]\tThere are 358/360 variables loaded into DeepLabV3P.\n",
            "2021-12-04 02:51:28 [INFO]\t[TRAIN] Epoch=1/40, Step=2/267, loss=0.000000, lr=0.009999, time_each_step=0.63s, eta=1:53:7\n",
            "2021-12-04 02:51:29 [INFO]\t[TRAIN] Epoch=1/40, Step=4/267, loss=0.000000, lr=0.009997, time_each_step=0.51s, eta=1:31:4\n"
          ]
        },
        {
          "output_type": "error",
          "ename": "RuntimeError",
          "evalue": "ignored",
          "traceback": [
            "\u001b[0;31m---------------------------------------------------------------------------\u001b[0m",
            "\u001b[0;31mRuntimeError\u001b[0m                              Traceback (most recent call last)",
            "\u001b[0;32m<ipython-input-17-c6d81a04e92c>\u001b[0m in \u001b[0;36m<module>\u001b[0;34m()\u001b[0m\n\u001b[1;32m     11\u001b[0m     \u001b[0mearly_stop\u001b[0m\u001b[0;34m=\u001b[0m\u001b[0;32mTrue\u001b[0m\u001b[0;34m,\u001b[0m\u001b[0;34m\u001b[0m\u001b[0;34m\u001b[0m\u001b[0m\n\u001b[1;32m     12\u001b[0m     \u001b[0mearly_stop_patience\u001b[0m\u001b[0;34m=\u001b[0m\u001b[0;36m5\u001b[0m\u001b[0;34m,\u001b[0m\u001b[0;34m\u001b[0m\u001b[0;34m\u001b[0m\u001b[0m\n\u001b[0;32m---> 13\u001b[0;31m     save_dir='output/deeplab')\n\u001b[0m",
            "\u001b[0;32m/usr/local/lib/python3.7/dist-packages/paddlex/cv/models/segmenter.py\u001b[0m in \u001b[0;36mtrain\u001b[0;34m(self, num_epochs, train_dataset, train_batch_size, eval_dataset, optimizer, save_interval_epochs, log_interval_steps, save_dir, pretrain_weights, learning_rate, lr_decay_power, early_stop, early_stop_patience, use_vdl, resume_checkpoint)\u001b[0m\n\u001b[1;32m    300\u001b[0m             \u001b[0mearly_stop\u001b[0m\u001b[0;34m=\u001b[0m\u001b[0mearly_stop\u001b[0m\u001b[0;34m,\u001b[0m\u001b[0;34m\u001b[0m\u001b[0;34m\u001b[0m\u001b[0m\n\u001b[1;32m    301\u001b[0m             \u001b[0mearly_stop_patience\u001b[0m\u001b[0;34m=\u001b[0m\u001b[0mearly_stop_patience\u001b[0m\u001b[0;34m,\u001b[0m\u001b[0;34m\u001b[0m\u001b[0;34m\u001b[0m\u001b[0m\n\u001b[0;32m--> 302\u001b[0;31m             use_vdl=use_vdl)\n\u001b[0m\u001b[1;32m    303\u001b[0m \u001b[0;34m\u001b[0m\u001b[0m\n\u001b[1;32m    304\u001b[0m     def quant_aware_train(self,\n",
            "\u001b[0;32m/usr/local/lib/python3.7/dist-packages/paddlex/cv/models/base.py\u001b[0m in \u001b[0;36mtrain_loop\u001b[0;34m(self, num_epochs, train_dataset, train_batch_size, eval_dataset, save_interval_epochs, log_interval_steps, save_dir, ema, early_stop, early_stop_patience, use_vdl)\u001b[0m\n\u001b[1;32m    331\u001b[0m                     \u001b[0moutputs\u001b[0m \u001b[0;34m=\u001b[0m \u001b[0mself\u001b[0m\u001b[0;34m.\u001b[0m\u001b[0mrun\u001b[0m\u001b[0;34m(\u001b[0m\u001b[0mddp_net\u001b[0m\u001b[0;34m,\u001b[0m \u001b[0mdata\u001b[0m\u001b[0;34m,\u001b[0m \u001b[0mmode\u001b[0m\u001b[0;34m=\u001b[0m\u001b[0;34m'train'\u001b[0m\u001b[0;34m)\u001b[0m\u001b[0;34m\u001b[0m\u001b[0;34m\u001b[0m\u001b[0m\n\u001b[1;32m    332\u001b[0m                 \u001b[0;32melse\u001b[0m\u001b[0;34m:\u001b[0m\u001b[0;34m\u001b[0m\u001b[0;34m\u001b[0m\u001b[0m\n\u001b[0;32m--> 333\u001b[0;31m                     \u001b[0moutputs\u001b[0m \u001b[0;34m=\u001b[0m \u001b[0mself\u001b[0m\u001b[0;34m.\u001b[0m\u001b[0mrun\u001b[0m\u001b[0;34m(\u001b[0m\u001b[0mself\u001b[0m\u001b[0;34m.\u001b[0m\u001b[0mnet\u001b[0m\u001b[0;34m,\u001b[0m \u001b[0mdata\u001b[0m\u001b[0;34m,\u001b[0m \u001b[0mmode\u001b[0m\u001b[0;34m=\u001b[0m\u001b[0;34m'train'\u001b[0m\u001b[0;34m)\u001b[0m\u001b[0;34m\u001b[0m\u001b[0;34m\u001b[0m\u001b[0m\n\u001b[0m\u001b[1;32m    334\u001b[0m                 \u001b[0mloss\u001b[0m \u001b[0;34m=\u001b[0m \u001b[0moutputs\u001b[0m\u001b[0;34m[\u001b[0m\u001b[0;34m'loss'\u001b[0m\u001b[0;34m]\u001b[0m\u001b[0;34m\u001b[0m\u001b[0;34m\u001b[0m\u001b[0m\n\u001b[1;32m    335\u001b[0m                 \u001b[0mloss\u001b[0m\u001b[0;34m.\u001b[0m\u001b[0mbackward\u001b[0m\u001b[0;34m(\u001b[0m\u001b[0;34m)\u001b[0m\u001b[0;34m\u001b[0m\u001b[0;34m\u001b[0m\u001b[0m\n",
            "\u001b[0;32m/usr/local/lib/python3.7/dist-packages/paddlex/cv/models/segmenter.py\u001b[0m in \u001b[0;36mrun\u001b[0;34m(self, net, inputs, mode)\u001b[0m\n\u001b[1;32m    145\u001b[0m         \u001b[0;32mif\u001b[0m \u001b[0mmode\u001b[0m \u001b[0;34m==\u001b[0m \u001b[0;34m'train'\u001b[0m\u001b[0;34m:\u001b[0m\u001b[0;34m\u001b[0m\u001b[0;34m\u001b[0m\u001b[0m\n\u001b[1;32m    146\u001b[0m             loss_list = metrics.loss_computation(\n\u001b[0;32m--> 147\u001b[0;31m                 logits_list=net_out, labels=inputs[1], losses=self.losses)\n\u001b[0m\u001b[1;32m    148\u001b[0m             \u001b[0mloss\u001b[0m \u001b[0;34m=\u001b[0m \u001b[0msum\u001b[0m\u001b[0;34m(\u001b[0m\u001b[0mloss_list\u001b[0m\u001b[0;34m)\u001b[0m\u001b[0;34m\u001b[0m\u001b[0;34m\u001b[0m\u001b[0m\n\u001b[1;32m    149\u001b[0m             \u001b[0moutputs\u001b[0m\u001b[0;34m[\u001b[0m\u001b[0;34m'loss'\u001b[0m\u001b[0;34m]\u001b[0m \u001b[0;34m=\u001b[0m \u001b[0mloss\u001b[0m\u001b[0;34m\u001b[0m\u001b[0;34m\u001b[0m\u001b[0m\n",
            "\u001b[0;32m/usr/local/lib/python3.7/dist-packages/paddlex/cv/models/utils/seg_metrics.py\u001b[0m in \u001b[0;36mloss_computation\u001b[0;34m(logits_list, labels, losses)\u001b[0m\n\u001b[1;32m     22\u001b[0m         \u001b[0mlogits\u001b[0m \u001b[0;34m=\u001b[0m \u001b[0mlogits_list\u001b[0m\u001b[0;34m[\u001b[0m\u001b[0mi\u001b[0m\u001b[0;34m]\u001b[0m\u001b[0;34m\u001b[0m\u001b[0;34m\u001b[0m\u001b[0m\n\u001b[1;32m     23\u001b[0m         \u001b[0mloss_i\u001b[0m \u001b[0;34m=\u001b[0m \u001b[0mlosses\u001b[0m\u001b[0;34m[\u001b[0m\u001b[0;34m'types'\u001b[0m\u001b[0;34m]\u001b[0m\u001b[0;34m[\u001b[0m\u001b[0mi\u001b[0m\u001b[0;34m]\u001b[0m\u001b[0;34m\u001b[0m\u001b[0;34m\u001b[0m\u001b[0m\n\u001b[0;32m---> 24\u001b[0;31m         \u001b[0mloss_list\u001b[0m\u001b[0;34m.\u001b[0m\u001b[0mappend\u001b[0m\u001b[0;34m(\u001b[0m\u001b[0mlosses\u001b[0m\u001b[0;34m[\u001b[0m\u001b[0;34m'coef'\u001b[0m\u001b[0;34m]\u001b[0m\u001b[0;34m[\u001b[0m\u001b[0mi\u001b[0m\u001b[0;34m]\u001b[0m \u001b[0;34m*\u001b[0m \u001b[0mloss_i\u001b[0m\u001b[0;34m(\u001b[0m\u001b[0mlogits\u001b[0m\u001b[0;34m,\u001b[0m \u001b[0mlabels\u001b[0m\u001b[0;34m)\u001b[0m\u001b[0;34m)\u001b[0m\u001b[0;34m\u001b[0m\u001b[0;34m\u001b[0m\u001b[0m\n\u001b[0m\u001b[1;32m     25\u001b[0m \u001b[0;34m\u001b[0m\u001b[0m\n\u001b[1;32m     26\u001b[0m     \u001b[0;32mreturn\u001b[0m \u001b[0mloss_list\u001b[0m\u001b[0;34m\u001b[0m\u001b[0;34m\u001b[0m\u001b[0m\n",
            "\u001b[0;32m/usr/local/lib/python3.7/dist-packages/paddle/fluid/dygraph/layers.py\u001b[0m in \u001b[0;36m__call__\u001b[0;34m(self, *inputs, **kwargs)\u001b[0m\n\u001b[1;32m    912\u001b[0m                 \u001b[0mself\u001b[0m\u001b[0;34m.\u001b[0m\u001b[0m_built\u001b[0m \u001b[0;34m=\u001b[0m \u001b[0;32mTrue\u001b[0m\u001b[0;34m\u001b[0m\u001b[0;34m\u001b[0m\u001b[0m\n\u001b[1;32m    913\u001b[0m \u001b[0;34m\u001b[0m\u001b[0m\n\u001b[0;32m--> 914\u001b[0;31m             \u001b[0moutputs\u001b[0m \u001b[0;34m=\u001b[0m \u001b[0mself\u001b[0m\u001b[0;34m.\u001b[0m\u001b[0mforward\u001b[0m\u001b[0;34m(\u001b[0m\u001b[0;34m*\u001b[0m\u001b[0minputs\u001b[0m\u001b[0;34m,\u001b[0m \u001b[0;34m**\u001b[0m\u001b[0mkwargs\u001b[0m\u001b[0;34m)\u001b[0m\u001b[0;34m\u001b[0m\u001b[0;34m\u001b[0m\u001b[0m\n\u001b[0m\u001b[1;32m    915\u001b[0m \u001b[0;34m\u001b[0m\u001b[0m\n\u001b[1;32m    916\u001b[0m             \u001b[0;32mfor\u001b[0m \u001b[0mforward_post_hook\u001b[0m \u001b[0;32min\u001b[0m \u001b[0mself\u001b[0m\u001b[0;34m.\u001b[0m\u001b[0m_forward_post_hooks\u001b[0m\u001b[0;34m.\u001b[0m\u001b[0mvalues\u001b[0m\u001b[0;34m(\u001b[0m\u001b[0;34m)\u001b[0m\u001b[0;34m:\u001b[0m\u001b[0;34m\u001b[0m\u001b[0;34m\u001b[0m\u001b[0m\n",
            "\u001b[0;32m/usr/local/lib/python3.7/dist-packages/paddlex/paddleseg/models/losses/cross_entropy_loss.py\u001b[0m in \u001b[0;36mforward\u001b[0;34m(self, logit, label, semantic_weights)\u001b[0m\n\u001b[1;32m     65\u001b[0m         \u001b[0;32mif\u001b[0m \u001b[0mself\u001b[0m\u001b[0;34m.\u001b[0m\u001b[0mweight\u001b[0m \u001b[0;32mis\u001b[0m \u001b[0;32mNone\u001b[0m\u001b[0;34m:\u001b[0m\u001b[0;34m\u001b[0m\u001b[0;34m\u001b[0m\u001b[0m\n\u001b[1;32m     66\u001b[0m             loss = F.cross_entropy(\n\u001b[0;32m---> 67\u001b[0;31m                 logit, label, ignore_index=self.ignore_index, reduction='none')\n\u001b[0m\u001b[1;32m     68\u001b[0m         \u001b[0;32melse\u001b[0m\u001b[0;34m:\u001b[0m\u001b[0;34m\u001b[0m\u001b[0;34m\u001b[0m\u001b[0m\n\u001b[1;32m     69\u001b[0m             \u001b[0mlabel_one_hot\u001b[0m \u001b[0;34m=\u001b[0m \u001b[0mF\u001b[0m\u001b[0;34m.\u001b[0m\u001b[0mone_hot\u001b[0m\u001b[0;34m(\u001b[0m\u001b[0mlabel\u001b[0m\u001b[0;34m,\u001b[0m \u001b[0mlogit\u001b[0m\u001b[0;34m.\u001b[0m\u001b[0mshape\u001b[0m\u001b[0;34m[\u001b[0m\u001b[0;34m-\u001b[0m\u001b[0;36m1\u001b[0m\u001b[0;34m]\u001b[0m\u001b[0;34m)\u001b[0m\u001b[0;34m\u001b[0m\u001b[0;34m\u001b[0m\u001b[0m\n",
            "\u001b[0;32m/usr/local/lib/python3.7/dist-packages/paddle/nn/functional/loss.py\u001b[0m in \u001b[0;36mcross_entropy\u001b[0;34m(input, label, weight, ignore_index, reduction, soft_label, axis, use_softmax, name)\u001b[0m\n\u001b[1;32m   1655\u001b[0m             \u001b[0;31m# TODO: Temporarily use paddle.nonzero instead of paddle.max\u001b[0m\u001b[0;34m\u001b[0m\u001b[0;34m\u001b[0m\u001b[0;34m\u001b[0m\u001b[0m\n\u001b[1;32m   1656\u001b[0m             \u001b[0;31m# to detect and find out possible illegal label values\u001b[0m\u001b[0;34m\u001b[0m\u001b[0;34m\u001b[0m\u001b[0;34m\u001b[0m\u001b[0m\n\u001b[0;32m-> 1657\u001b[0;31m             \u001b[0;32mif\u001b[0m \u001b[0mlen\u001b[0m\u001b[0;34m(\u001b[0m\u001b[0mpaddle\u001b[0m\u001b[0;34m.\u001b[0m\u001b[0mnonzero\u001b[0m\u001b[0;34m(\u001b[0m\u001b[0mvalid_label\u001b[0m \u001b[0;34m<\u001b[0m \u001b[0;36m0\u001b[0m\u001b[0;34m)\u001b[0m\u001b[0;34m)\u001b[0m \u001b[0;34m>\u001b[0m \u001b[0;36m0\u001b[0m\u001b[0;34m:\u001b[0m\u001b[0;34m\u001b[0m\u001b[0;34m\u001b[0m\u001b[0m\n\u001b[0m\u001b[1;32m   1658\u001b[0m                 invalid_label = paddle.gather_nd(\n\u001b[1;32m   1659\u001b[0m                     valid_label, paddle.nonzero(valid_label < 0))\n",
            "\u001b[0;32m/usr/local/lib/python3.7/dist-packages/paddle/tensor/search.py\u001b[0m in \u001b[0;36mnonzero\u001b[0;34m(x, as_tuple)\u001b[0m\n\u001b[1;32m    380\u001b[0m \u001b[0;34m\u001b[0m\u001b[0m\n\u001b[1;32m    381\u001b[0m     \u001b[0;32mif\u001b[0m \u001b[0min_dygraph_mode\u001b[0m\u001b[0;34m(\u001b[0m\u001b[0;34m)\u001b[0m\u001b[0;34m:\u001b[0m\u001b[0;34m\u001b[0m\u001b[0;34m\u001b[0m\u001b[0m\n\u001b[0;32m--> 382\u001b[0;31m         \u001b[0mouts\u001b[0m \u001b[0;34m=\u001b[0m \u001b[0m_C_ops\u001b[0m\u001b[0;34m.\u001b[0m\u001b[0mwhere_index\u001b[0m\u001b[0;34m(\u001b[0m\u001b[0mx\u001b[0m\u001b[0;34m)\u001b[0m\u001b[0;34m\u001b[0m\u001b[0;34m\u001b[0m\u001b[0m\n\u001b[0m\u001b[1;32m    383\u001b[0m     \u001b[0;32melse\u001b[0m\u001b[0;34m:\u001b[0m\u001b[0;34m\u001b[0m\u001b[0;34m\u001b[0m\u001b[0m\n\u001b[1;32m    384\u001b[0m         \u001b[0mouts\u001b[0m \u001b[0;34m=\u001b[0m \u001b[0mlayers\u001b[0m\u001b[0;34m.\u001b[0m\u001b[0mwhere\u001b[0m\u001b[0;34m(\u001b[0m\u001b[0mx\u001b[0m\u001b[0;34m)\u001b[0m\u001b[0;34m\u001b[0m\u001b[0;34m\u001b[0m\u001b[0m\n",
            "\u001b[0;31mRuntimeError\u001b[0m: (PreconditionNotMet) The Tensor's element number must be equal or greater than zero. The Tensor's shape is [-4929807181985728184, 4] now\n  [Hint: Expected numel() >= 0, but received numel():-1272484654233361120 < 0:0.] (at /paddle/paddle/fluid/framework/tensor.cc:59)\n  [operator < where_index > error]"
          ]
        }
      ]
    }
  ]
}